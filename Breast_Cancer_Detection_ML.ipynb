{
  "nbformat": 4,
  "nbformat_minor": 0,
  "metadata": {
    "colab": {
      "name": "Breast Cancer Detection.ipynb",
      "provenance": [],
      "collapsed_sections": [],
      "authorship_tag": "ABX9TyOeqZtDTmwW4d909ysPzHEA",
      "include_colab_link": true
    },
    "kernelspec": {
      "name": "python3",
      "display_name": "Python 3"
    },
    "language_info": {
      "name": "python"
    }
  },
  "cells": [
    {
      "cell_type": "markdown",
      "metadata": {
        "id": "view-in-github",
        "colab_type": "text"
      },
      "source": [
        "<a href=\"https://colab.research.google.com/github/RicardoLeonCo/myrepo/blob/main/Breast_Cancer_Detection_ML.ipynb\" target=\"_parent\"><img src=\"https://colab.research.google.com/assets/colab-badge.svg\" alt=\"Open In Colab\"/></a>"
      ]
    },
    {
      "cell_type": "code",
      "metadata": {
        "id": "zhv4O5BsosI9"
      },
      "source": [
        "#Importing Libraries and Dataset.\n",
        "\n",
        "from sklearn.datasets import load_breast_cancer #This is the dataset from which I am getting the information.\n",
        "from sklearn.model_selection import train_test_split\n",
        "from sklearn.naive_bayes import GaussianNB\n",
        "from sklearn.linear_model import LinearRegression\n",
        "from sklearn.metrics import accuracy_score #I assume this is how I'm going to check my score on the outcomes."
      ],
      "execution_count": 1,
      "outputs": []
    },
    {
      "cell_type": "code",
      "metadata": {
        "id": "lCzUqIvntcLX"
      },
      "source": [
        "#Create variables that we'll use later on.\n",
        "\n",
        "data = load_breast_cancer() #WHY do we use parenthesis at the end of a line of code?\n",
        "label_names = data[\"target_names\"]\n",
        "labels = data[\"target\"]\n",
        "feature_names = data[\"feature_names\"]\n",
        "features = data[\"data\"]"
      ],
      "execution_count": 2,
      "outputs": []
    },
    {
      "cell_type": "code",
      "metadata": {
        "colab": {
          "base_uri": "https://localhost:8080/"
        },
        "id": "h5h4r30mvFES",
        "outputId": "e439f864-657b-48ca-f30e-7723f03804ed"
      },
      "source": [
        "#Let's do some EXPLORATORY DATA ANALYSIS\n",
        "\n",
        "#We want to better understand our dataset, so we can\n",
        "#take a look at it by printing our labels.\n",
        "\n",
        "print(label_names) #These are the categories or labels.\n",
        "print(\"Class label :\", labels[0]) #We want to print using this format\n",
        "#so it reads \"Class label:\" and then we are adding up the label for the first\n",
        "#data instance or observation, the order starts at index 0 not 1. Since the result\n",
        "#Is 0 I assume it might be malignant because that's the first category.\n",
        "print(feature_names) #This is the column names.\n",
        "print(features[0], \"\\n\") #We are printing the observations or value points\n",
        "#on each column for the first row of data."
      ],
      "execution_count": 4,
      "outputs": [
        {
          "output_type": "stream",
          "name": "stdout",
          "text": [
            "['malignant' 'benign']\n",
            "Class label : 0\n",
            "['mean radius' 'mean texture' 'mean perimeter' 'mean area'\n",
            " 'mean smoothness' 'mean compactness' 'mean concavity'\n",
            " 'mean concave points' 'mean symmetry' 'mean fractal dimension'\n",
            " 'radius error' 'texture error' 'perimeter error' 'area error'\n",
            " 'smoothness error' 'compactness error' 'concavity error'\n",
            " 'concave points error' 'symmetry error' 'fractal dimension error'\n",
            " 'worst radius' 'worst texture' 'worst perimeter' 'worst area'\n",
            " 'worst smoothness' 'worst compactness' 'worst concavity'\n",
            " 'worst concave points' 'worst symmetry' 'worst fractal dimension']\n",
            "[1.799e+01 1.038e+01 1.228e+02 1.001e+03 1.184e-01 2.776e-01 3.001e-01\n",
            " 1.471e-01 2.419e-01 7.871e-02 1.095e+00 9.053e-01 8.589e+00 1.534e+02\n",
            " 6.399e-03 4.904e-02 5.373e-02 1.587e-02 3.003e-02 6.193e-03 2.538e+01\n",
            " 1.733e+01 1.846e+02 2.019e+03 1.622e-01 6.656e-01 7.119e-01 2.654e-01\n",
            " 4.601e-01 1.189e-01] \n",
            "\n"
          ]
        }
      ]
    },
    {
      "cell_type": "code",
      "metadata": {
        "id": "Do3re_FAx-XM"
      },
      "source": [
        "#To build or model, which I think it's a classifier (correct), we will use the Naive Bayes algorithm \n",
        "#to perform the breast cancer detection.\n",
        "\n",
        "#It's best practice, to evaluate the performance of our model\n",
        "#classifier by testing the model on invisible data so we divide\n",
        "#our dataset into two parts: 80% training set and 20% is a test set.\n",
        "\n",
        "train, test, train_labels, test_labels = train_test_split(features, labels,\n",
        "                                                          test_size=0.2,\n",
        "                                                          random_state=42) #What does this mean?"
      ],
      "execution_count": 5,
      "outputs": []
    },
    {
      "cell_type": "code",
      "metadata": {
        "colab": {
          "base_uri": "https://localhost:8080/"
        },
        "id": "jKWTyhDL4Xn8",
        "outputId": "98f5cd98-8177-4d4f-bee0-9851649072c4"
      },
      "source": [
        "#There are multiple models within machine learning. Since we\n",
        "#only need our classifier to tell us if this is a benign or malign\n",
        "#and there's only two categories this is a binary classification\n",
        "#problem and we use the Niave Bayes algorithm which works well with binary\n",
        "#classification.\n",
        "\n",
        "gnb = GaussianNB() #Stands for Gaussian Naive Bayes\n",
        "gnb.fit(train, train_labels) #We are going to feed it our training data."
      ],
      "execution_count": 6,
      "outputs": [
        {
          "output_type": "execute_result",
          "data": {
            "text/plain": [
              "GaussianNB()"
            ]
          },
          "metadata": {},
          "execution_count": 6
        }
      ]
    },
    {
      "cell_type": "code",
      "metadata": {
        "colab": {
          "base_uri": "https://localhost:8080/"
        },
        "id": "Z82TJvDZ8lSz",
        "outputId": "57637a4b-7829-4a0a-971a-f05d579fd393"
      },
      "source": [
        "#we'll use the trained model to make predictions on the test set.\n",
        "#But WHAT for?\n",
        "\n",
        "preds = gnb.predict(test) #I'm passing my test data subset into\n",
        "#the predict function.\n",
        "print(preds, \"\\n\") #The model's predictions. I infer that 0 = Malignant and 1 = Benign"
      ],
      "execution_count": 7,
      "outputs": [
        {
          "output_type": "stream",
          "name": "stdout",
          "text": [
            "[1 0 0 1 1 0 0 0 1 1 1 0 1 0 1 0 1 1 1 0 1 1 0 1 1 1 1 1 1 0 1 1 1 1 1 1 0\n",
            " 1 0 1 1 0 1 1 1 1 1 1 1 1 0 0 1 1 1 1 1 0 0 1 1 0 0 1 1 1 0 0 1 1 0 0 1 0\n",
            " 1 1 1 1 1 1 0 1 1 0 0 0 0 0 1 1 1 1 1 1 1 1 0 0 1 0 0 1 0 0 1 1 1 0 1 1 0\n",
            " 1 1 0] \n",
            "\n"
          ]
        }
      ]
    },
    {
      "cell_type": "code",
      "metadata": {
        "colab": {
          "base_uri": "https://localhost:8080/"
        },
        "id": "_sPcoGbU9l06",
        "outputId": "e96ad0fc-59a9-4dba-d610-40f08aa77162"
      },
      "source": [
        "#Now we can assess how accurate our model was by comparing the two\n",
        "#arrays, the test vs. the predictions using the true class labels,\n",
        "#which I understand as the actual labels from the test subset.\n",
        "\n",
        "print(accuracy_score(test_labels, preds)) #We'll print the accuracy score using\n",
        "#its respective function as provided by scikit-learn library to determine\n",
        "#how accurate was our machine learning classifier.\n",
        "\n",
        "#What conclusion can we draw from this accuracy rate?\n",
        "#The breast cancer detection model is able to make the\n",
        "#correct prediction 97% of the time."
      ],
      "execution_count": 8,
      "outputs": [
        {
          "output_type": "stream",
          "name": "stdout",
          "text": [
            "0.9736842105263158\n"
          ]
        }
      ]
    }
  ]
}